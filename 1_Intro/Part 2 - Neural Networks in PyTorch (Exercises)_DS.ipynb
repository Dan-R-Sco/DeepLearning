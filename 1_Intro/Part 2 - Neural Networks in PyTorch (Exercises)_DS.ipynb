{
 "cells": [
  {
   "cell_type": "markdown",
   "metadata": {},
   "source": [
    "# Neural networks with PyTorch\n",
    "\n",
    "Deep learning networks tend to be massive with dozens or hundreds of layers, that's where the term \"deep\" comes from. You can build one of these deep networks using only weight matrices as we did in the previous notebook, but in general it's very cumbersome and difficult to implement. PyTorch has a nice module `nn` that provides a nice way to efficiently build large neural networks."
   ]
  },
  {
   "cell_type": "code",
   "execution_count": 1,
   "metadata": {},
   "outputs": [],
   "source": [
    "# Import necessary packages\n",
    "\n",
    "%matplotlib inline\n",
    "%config InlineBackend.figure_format = 'retina'\n",
    "\n",
    "import numpy as np\n",
    "import torch\n",
    "\n",
    "import helper\n",
    "\n",
    "import matplotlib.pyplot as plt"
   ]
  },
  {
   "cell_type": "markdown",
   "metadata": {},
   "source": [
    "\n",
    "Now we're going to build a larger network that can solve a (formerly) difficult problem, identifying text in an image. Here we'll use the MNIST dataset which consists of greyscale handwritten digits. Each image is 28x28 pixels, you can see a sample below\n",
    "\n",
    "<img src='assets/mnist.png'>\n",
    "\n",
    "Our goal is to build a neural network that can take one of these images and predict the digit in the image.\n",
    "\n",
    "First up, we need to get our dataset. This is provided through the `torchvision` package. The code below will download the MNIST dataset, then create training and test datasets for us. Don't worry too much about the details here, you'll learn more about this later."
   ]
  },
  {
   "cell_type": "code",
   "execution_count": 4,
   "metadata": {},
   "outputs": [
    {
     "name": "stdout",
     "output_type": "stream",
     "text": [
      "Downloading http://yann.lecun.com/exdb/mnist/train-images-idx3-ubyte.gz\n",
      "Downloading http://yann.lecun.com/exdb/mnist/train-labels-idx1-ubyte.gz\n",
      "Downloading http://yann.lecun.com/exdb/mnist/t10k-images-idx3-ubyte.gz\n",
      "Downloading http://yann.lecun.com/exdb/mnist/t10k-labels-idx1-ubyte.gz\n",
      "Processing...\n",
      "Done!\n"
     ]
    }
   ],
   "source": [
    "### Run this cell\n",
    "\n",
    "from torchvision import datasets, transforms\n",
    "\n",
    "# Define a transform to normalize the data\n",
    "transform = transforms.Compose([transforms.ToTensor(),\n",
    "                              transforms.Normalize((0.5,), (0.5,)),\n",
    "                              ])\n",
    "\n",
    "# Download and load the training data\n",
    "trainset = datasets.MNIST('~/.pytorch/MNIST_data/', download=True, train=True, transform=transform)\n",
    "trainloader = torch.utils.data.DataLoader(trainset, batch_size=64, shuffle=True)"
   ]
  },
  {
   "cell_type": "markdown",
   "metadata": {},
   "source": [
    "We have the training data loaded into `trainloader` and we make that an iterator with `iter(trainloader)`. Later, we'll use this to loop through the dataset for training, like\n",
    "\n",
    "```python\n",
    "for image, label in trainloader:\n",
    "    ## do things with images and labels\n",
    "```\n",
    "\n",
    "You'll notice I created the `trainloader` with a batch size of 64, and `shuffle=True`. The batch size is the number of images we get in one iteration from the data loader and pass through our network, often called a *batch*. And `shuffle=True` tells it to shuffle the dataset every time we start going through the data loader again. But here I'm just grabbing the first batch so we can check out the data. We can see below that `images` is just a tensor with size `(64, 1, 28, 28)`. So, 64 images per batch, 1 color channel, and 28x28 images."
   ]
  },
  {
   "cell_type": "code",
   "execution_count": 5,
   "metadata": {},
   "outputs": [
    {
     "name": "stdout",
     "output_type": "stream",
     "text": [
      "<class 'torch.Tensor'>\n",
      "torch.Size([64, 1, 28, 28])\n",
      "torch.Size([64])\n"
     ]
    }
   ],
   "source": [
    "dataiter = iter(trainloader)\n",
    "images, labels = dataiter.next()\n",
    "print(type(images))\n",
    "print(images.shape)\n",
    "print(labels.shape)"
   ]
  },
  {
   "cell_type": "markdown",
   "metadata": {},
   "source": [
    "This is what one of the images looks like. "
   ]
  },
  {
   "cell_type": "code",
   "execution_count": 6,
   "metadata": {},
   "outputs": [
    {
     "data": {
      "image/png": "[encoded data removed]",
      "text/plain": [
       "<Figure size 432x288 with 1 Axes>"
      ]
     },
     "metadata": {
      "image/png": {
       "height": 248,
       "width": 251
      },
      "needs_background": "light"
     },
     "output_type": "display_data"
    }
   ],
   "source": [
    "plt.imshow(images[1].numpy().squeeze(), cmap='Greys_r');"
   ]
  },
  {
   "cell_type": "markdown",
   "metadata": {},
   "source": [
    "First, let's try to build a simple network for this dataset using weight matrices and matrix multiplications. Then, we'll see how to do it using PyTorch's `nn` module which provides a much more convenient and powerful method for defining network architectures.\n",
    "\n",
    "The networks you've seen so far are called *fully-connected* or *dense* networks. Each unit in one layer is connected to each unit in the next layer. In fully-connected networks, the input to each layer must be a one-dimensional vector (which can be stacked into a 2D tensor as a batch of multiple examples). However, our images are 28x28 2D tensors, so we need to convert them into 1D vectors. Thinking about sizes, we need to convert the batch of images with shape `(64, 1, 28, 28)` to a have a shape of `(64, 784)`, 784 is 28 times 28. This is typically called *flattening*, we flattened the 2D images into 1D vectors.\n",
    "\n",
    "Previously you built a network with one output unit. Here we need 10 output units, one for each digit. We want our network to predict the digit shown in an image, so what we'll do is calculate probabilities that the image is of any one digit or class. This ends up being a discrete probability distribution over the classes (digits) that tells us the most likely class for the image. That means we need 10 output units for the 10 classes (digits). We'll see how to convert the network output into a probability distribution next.\n",
    "\n",
    "> **Exercise:** Flatten the batch of images `images`. Then build a multi-layer network with 784 input units, 256 hidden units, and 10 output units using random tensors for the weights and biases. For now, use a sigmoid activation for the hidden layer. Leave the output layer without an activation, we'll add one that gives us a probability distribution next."
   ]
  },
  {
   "cell_type": "code",
   "execution_count": 24,
   "metadata": {},
   "outputs": [
    {
     "name": "stdout",
     "output_type": "stream",
     "text": [
      "torch.Size([64, 784])\n",
      "number of units 784\n",
      "number of hidden units 256\n",
      "number of output units 10\n",
      "torch.Size([64, 10])\n",
      "tensor([[2.9160e-07, 3.2618e-03, 8.5687e-03, 8.3180e-07, 9.9986e-01, 9.9978e-01,\n",
      "         3.6344e-04, 9.0930e-01, 7.9233e-05, 4.5114e-04],\n",
      "        [2.1950e-06, 3.0860e-07, 1.3813e-04, 1.0324e-04, 9.9992e-01, 9.8725e-01,\n",
      "         4.6876e-06, 2.8061e-01, 3.7670e-04, 4.8390e-02],\n",
      "        [5.8998e-12, 2.1388e-04, 5.1772e-01, 1.1653e-06, 9.9207e-01, 9.9973e-01,\n",
      "         7.0951e-03, 8.1795e-01, 1.8400e-08, 4.7010e-03],\n",
      "        [5.2541e-07, 1.7246e-02, 7.2433e-01, 9.0682e-02, 9.9681e-01, 9.9999e-01,\n",
      "         9.7985e-01, 6.9556e-01, 1.5152e-03, 1.1530e-01],\n",
      "        [2.3949e-06, 2.6202e-02, 5.3685e-02, 9.6589e-07, 9.9999e-01, 9.9999e-01,\n",
      "         3.3253e-01, 9.9998e-01, 6.4508e-05, 1.6136e-02],\n",
      "        [1.0803e-06, 3.7102e-01, 8.0401e-01, 9.9597e-07, 9.9973e-01, 9.9993e-01,\n",
      "         1.8087e-03, 9.9993e-01, 2.0816e-03, 1.4946e-02],\n",
      "        [3.3856e-07, 2.6606e-06, 9.9821e-01, 2.1616e-06, 9.4785e-01, 9.8844e-01,\n",
      "         8.0981e-03, 9.9662e-01, 6.5789e-04, 9.9531e-01],\n",
      "        [4.4262e-08, 9.3169e-05, 9.6011e-01, 2.9543e-04, 8.8029e-01, 1.2628e-01,\n",
      "         2.7333e-04, 6.7712e-01, 4.9937e-04, 7.7458e-01],\n",
      "        [1.8770e-08, 2.2374e-05, 2.1341e-01, 1.5940e-03, 1.0000e+00, 9.9419e-01,\n",
      "         1.5173e-02, 9.9976e-01, 1.6767e-05, 8.5702e-03],\n",
      "        [5.8064e-07, 3.8536e-02, 8.0798e-01, 1.1431e-04, 1.2074e-01, 9.9999e-01,\n",
      "         8.6566e-09, 9.9956e-01, 8.1191e-08, 9.6851e-01],\n",
      "        [8.5836e-08, 3.1346e-01, 2.4746e-01, 2.3622e-01, 9.9996e-01, 8.2645e-01,\n",
      "         7.9113e-05, 5.4897e-02, 5.9533e-07, 2.2469e-01],\n",
      "        [7.2207e-06, 4.5781e-02, 8.4276e-01, 1.4917e-07, 9.5446e-01, 9.9993e-01,\n",
      "         8.9810e-01, 1.0000e+00, 7.3601e-07, 2.1557e-05],\n",
      "        [2.9359e-09, 1.5807e-02, 9.3266e-01, 4.8750e-05, 9.8742e-01, 3.5981e-01,\n",
      "         5.4584e-01, 1.0000e+00, 1.1776e-04, 1.0950e-01],\n",
      "        [2.4544e-07, 4.1576e-04, 1.8431e-03, 2.9476e-07, 9.9997e-01, 9.9979e-01,\n",
      "         9.6890e-01, 9.9974e-01, 8.3719e-06, 1.3032e-03],\n",
      "        [1.4895e-07, 3.4834e-04, 2.7802e-04, 3.2018e-02, 9.9956e-01, 9.9997e-01,\n",
      "         1.3490e-01, 6.2094e-05, 1.2158e-07, 5.3809e-02],\n",
      "        [5.1332e-09, 1.1326e-05, 1.4909e-03, 1.4298e-05, 9.9999e-01, 1.0000e+00,\n",
      "         1.2217e-04, 9.9999e-01, 1.1223e-04, 3.5123e-06],\n",
      "        [2.9103e-06, 2.9238e-02, 6.5081e-01, 8.7340e-06, 6.3606e-01, 9.9972e-01,\n",
      "         1.4172e-04, 7.3561e-01, 2.1432e-06, 2.5808e-01],\n",
      "        [2.8518e-12, 4.8868e-01, 3.9660e-03, 8.9478e-03, 9.9999e-01, 9.9991e-01,\n",
      "         6.3028e-02, 1.0904e-01, 4.6040e-06, 7.6978e-01],\n",
      "        [2.8713e-07, 5.2424e-01, 9.9976e-01, 1.8639e-05, 9.9942e-01, 9.7233e-01,\n",
      "         1.3597e-04, 9.9513e-01, 1.0147e-02, 9.4871e-01],\n",
      "        [8.3588e-04, 9.5789e-01, 8.7101e-01, 3.6443e-03, 9.9994e-01, 4.9074e-01,\n",
      "         4.7658e-01, 1.6958e-03, 7.0343e-10, 9.1681e-04],\n",
      "        [1.3347e-08, 1.8578e-10, 7.0420e-01, 7.9107e-07, 9.8188e-01, 1.0000e+00,\n",
      "         9.2378e-01, 9.9875e-01, 5.9413e-09, 3.1982e-01],\n",
      "        [3.2212e-05, 8.4322e-01, 9.3864e-01, 2.0548e-03, 9.9999e-01, 9.1660e-01,\n",
      "         1.9321e-02, 1.6500e-02, 4.8322e-05, 9.4486e-02],\n",
      "        [5.8060e-06, 7.5228e-05, 5.4320e-01, 5.1805e-03, 9.9967e-01, 9.9956e-01,\n",
      "         6.4253e-05, 9.9990e-01, 1.1909e-08, 6.2852e-03],\n",
      "        [6.0325e-05, 1.4250e-05, 1.9309e-01, 8.3920e-07, 6.0442e-01, 9.9999e-01,\n",
      "         2.8513e-05, 9.6717e-01, 2.3379e-08, 3.1994e-03],\n",
      "        [2.4043e-06, 3.7988e-06, 9.7840e-01, 3.8535e-04, 8.0366e-01, 9.9953e-01,\n",
      "         1.7377e-09, 1.2230e-06, 1.7238e-04, 9.2183e-01],\n",
      "        [3.2319e-02, 2.5137e-05, 6.2919e-03, 1.9127e-04, 9.9062e-01, 1.0000e+00,\n",
      "         9.8211e-01, 8.9578e-01, 2.3289e-11, 6.5725e-01],\n",
      "        [2.5342e-06, 4.9988e-04, 1.4873e-01, 6.4127e-06, 9.9954e-01, 9.9597e-01,\n",
      "         7.4613e-02, 9.9450e-01, 2.5110e-07, 1.3583e-03],\n",
      "        [7.5875e-10, 1.8807e-06, 2.0825e-01, 1.0346e-03, 9.9954e-01, 9.9870e-01,\n",
      "         5.7853e-06, 8.7954e-01, 3.3688e-07, 3.9607e-03],\n",
      "        [3.4580e-06, 8.2462e-05, 1.2476e-02, 2.9574e-06, 9.9547e-01, 1.0000e+00,\n",
      "         8.4413e-03, 1.0000e+00, 1.8642e-10, 3.4476e-05],\n",
      "        [1.9052e-07, 2.1772e-04, 6.3093e-01, 5.4808e-07, 9.9895e-01, 9.9838e-01,\n",
      "         5.5790e-03, 2.8526e-01, 1.3086e-03, 5.7937e-02],\n",
      "        [2.0031e-05, 1.7979e-02, 6.6901e-01, 1.2090e-03, 1.0000e+00, 9.6319e-01,\n",
      "         3.2957e-05, 9.4664e-01, 1.5093e-03, 6.1238e-06],\n",
      "        [7.1156e-05, 2.2077e-09, 9.1628e-01, 4.8605e-10, 9.9949e-01, 9.9996e-01,\n",
      "         5.6248e-01, 8.9468e-01, 2.5739e-08, 5.1591e-05],\n",
      "        [1.9136e-09, 4.2910e-03, 9.6955e-01, 2.7013e-02, 7.0244e-02, 9.9997e-01,\n",
      "         5.9263e-01, 9.6251e-05, 1.5423e-08, 4.6884e-03],\n",
      "        [1.6815e-04, 5.4922e-04, 9.1271e-01, 3.3396e-07, 9.9763e-01, 1.0000e+00,\n",
      "         6.7364e-01, 9.9827e-01, 1.3558e-06, 7.0476e-01],\n",
      "        [6.7033e-04, 3.5447e-03, 1.0933e-03, 7.0640e-08, 9.9961e-01, 9.9999e-01,\n",
      "         5.4537e-11, 9.9948e-01, 2.8274e-07, 7.7948e-03],\n",
      "        [7.9559e-09, 9.3770e-04, 2.9113e-01, 5.1546e-06, 3.0451e-02, 4.3384e-03,\n",
      "         7.8413e-06, 1.4749e-03, 2.9409e-04, 3.6690e-02],\n",
      "        [6.1031e-05, 8.1077e-02, 1.3222e-01, 2.2296e-04, 1.0000e+00, 9.9953e-01,\n",
      "         5.7893e-03, 9.0610e-01, 1.7731e-04, 1.0130e-05],\n",
      "        [2.5860e-11, 2.2701e-08, 3.0860e-03, 1.7792e-05, 9.9999e-01, 9.9312e-01,\n",
      "         5.9523e-06, 7.4097e-01, 2.5867e-02, 7.5839e-02],\n",
      "        [1.2246e-05, 4.5452e-05, 7.8600e-01, 7.7021e-03, 9.9967e-01, 9.9878e-01,\n",
      "         6.6994e-01, 3.5993e-01, 1.6985e-03, 1.0994e-01],\n",
      "        [1.5418e-09, 1.2014e-04, 9.1393e-01, 1.2252e-06, 9.9987e-01, 7.9100e-01,\n",
      "         4.5595e-02, 5.2273e-04, 4.5172e-07, 1.1845e-02],\n",
      "        [1.4072e-06, 1.5735e-03, 1.8244e-02, 3.3013e-06, 9.9861e-01, 9.5353e-01,\n",
      "         7.4481e-07, 4.2984e-01, 1.2917e-02, 1.4467e-03],\n",
      "        [6.0602e-10, 8.9250e-04, 2.5630e-03, 1.0650e-07, 1.0000e+00, 9.9945e-01,\n",
      "         3.2936e-02, 5.1494e-03, 1.5393e-04, 2.9119e-04],\n",
      "        [2.2001e-09, 4.8682e-02, 8.0156e-03, 3.8391e-03, 8.9682e-01, 3.6021e-01,\n",
      "         9.7076e-06, 9.9993e-01, 1.5255e-07, 3.2846e-01],\n",
      "        [2.4612e-05, 1.1935e-03, 1.5603e-01, 4.6602e-04, 9.9732e-01, 9.9968e-01,\n",
      "         2.6970e-03, 9.8876e-01, 1.1405e-07, 4.9443e-01],\n",
      "        [1.2262e-07, 1.9964e-07, 6.4968e-01, 7.2643e-04, 9.9994e-01, 9.9998e-01,\n",
      "         1.7053e-05, 1.1542e-02, 1.0578e-06, 3.1207e-01],\n",
      "        [2.8032e-12, 1.1645e-03, 9.9944e-01, 2.3131e-05, 9.9910e-01, 9.9981e-01,\n",
      "         9.9383e-01, 1.7670e-03, 3.1857e-06, 1.6085e-07],\n",
      "        [6.5578e-09, 1.1482e-04, 4.1921e-02, 3.7710e-04, 9.6023e-01, 8.0381e-01,\n",
      "         1.7677e-03, 5.2484e-01, 3.0281e-03, 7.7915e-01],\n",
      "        [3.0170e-08, 4.2298e-01, 9.2313e-02, 1.5358e-04, 1.0000e+00, 1.5510e-01,\n",
      "         1.6539e-04, 9.8834e-01, 1.2544e-07, 8.3809e-04],\n",
      "        [2.3511e-04, 4.7169e-03, 9.2455e-02, 6.4536e-09, 4.9749e-02, 9.9981e-01,\n",
      "         2.2085e-05, 9.5302e-01, 1.6132e-03, 2.8312e-04],\n",
      "        [2.5267e-09, 9.6080e-01, 1.0000e+00, 4.0474e-01, 9.9854e-01, 9.9447e-01,\n",
      "         1.3631e-01, 1.1290e-01, 4.2577e-06, 9.9597e-01],\n",
      "        [2.4769e-10, 1.0356e-06, 1.1875e-02, 5.3009e-05, 1.0000e+00, 9.9999e-01,\n",
      "         1.5579e-04, 8.4973e-03, 8.0304e-06, 3.6092e-01],\n",
      "        [3.8064e-08, 2.8053e-02, 9.8476e-01, 6.1654e-04, 9.1050e-02, 9.9994e-01,\n",
      "         1.1812e-04, 5.4556e-03, 4.1995e-08, 1.1552e-02],\n",
      "        [4.2501e-05, 4.6102e-02, 5.1848e-01, 1.9439e-06, 7.9877e-01, 1.0000e+00,\n",
      "         3.3666e-07, 2.6431e-01, 2.1059e-04, 3.4050e-01],\n",
      "        [8.7496e-06, 3.6201e-03, 9.6867e-01, 1.9401e-02, 9.9999e-01, 9.2523e-01,\n",
      "         1.0945e-05, 2.6312e-02, 7.0837e-05, 3.7365e-05],\n",
      "        [4.9966e-10, 5.1462e-03, 9.8826e-01, 3.7992e-03, 8.2122e-01, 9.1633e-01,\n",
      "         2.7016e-04, 1.0000e+00, 1.5538e-06, 3.1857e-01],\n",
      "        [7.4215e-08, 2.8295e-03, 7.6789e-01, 5.9837e-06, 8.8103e-01, 9.8525e-01,\n",
      "         1.1197e-02, 1.0000e+00, 9.1843e-06, 2.5174e-01],\n",
      "        [5.0169e-07, 3.1181e-08, 9.3209e-02, 4.7285e-06, 9.9957e-01, 7.8853e-01,\n",
      "         1.9533e-02, 9.8190e-01, 5.6123e-06, 1.2021e-01],\n",
      "        [5.0862e-09, 9.9826e-08, 7.8724e-01, 5.4584e-06, 9.9344e-01, 9.9934e-01,\n",
      "         2.2445e-03, 9.7035e-01, 5.7039e-06, 6.0939e-02],\n",
      "        [3.8503e-05, 3.4181e-07, 9.7156e-01, 7.4696e-03, 9.9993e-01, 9.9999e-01,\n",
      "         3.9279e-03, 7.0208e-02, 1.5872e-06, 9.9711e-05],\n",
      "        [2.0223e-03, 1.6664e-03, 9.7956e-01, 4.2329e-03, 9.6927e-01, 9.9871e-01,\n",
      "         9.6212e-01, 2.1475e-01, 7.1914e-08, 3.7041e-03],\n",
      "        [3.4377e-06, 1.8386e-06, 8.4960e-06, 1.1608e-08, 9.9991e-01, 9.9787e-01,\n",
      "         1.2703e-01, 9.9240e-01, 7.0477e-05, 1.8924e-02],\n",
      "        [6.5735e-02, 2.4214e-05, 3.5258e-04, 4.8161e-03, 9.9999e-01, 7.7390e-01,\n",
      "         2.3456e-05, 4.3075e-05, 2.4613e-04, 5.9154e-02],\n",
      "        [6.4044e-09, 5.1848e-04, 8.2881e-02, 1.8091e-03, 9.9994e-01, 1.5224e-01,\n",
      "         2.8608e-06, 9.2364e-01, 1.0439e-02, 7.7511e-02],\n",
      "        [4.1585e-05, 8.2568e-04, 1.0596e-01, 9.1131e-04, 1.0000e+00, 9.7874e-01,\n",
      "         1.2115e-01, 1.0000e+00, 2.7380e-07, 2.7631e-03]])\n"
     ]
    }
   ],
   "source": [
    "## Your solution\n",
    "def activation(x):\n",
    "    return 1/(1+torch.exp(-x))\n",
    "\n",
    "torch.manual_seed(7) # Set the random seed so things are predictable\n",
    "\n",
    "# reshape features \n",
    "features = images.view(images.shape[0],-1) #images.shape[0]=no.batches\n",
    "#features = images.view(images.shape[0],784) works equally\n",
    "print(features.shape)\n",
    "\n",
    "# Define the size of each layer in our network\n",
    "n_input = features.shape[1]     # Number of input units, must match number of input features\n",
    "print(\"number of units \" + str(n_input))\n",
    "n_hidden = 256 # Number of hidden units\n",
    "print(\"number of hidden units \"+str(n_hidden))\n",
    "n_output = 10 # Number of output units\n",
    "print(\"number of output units \"+str(n_output))\n",
    "\n",
    "# Weights for inputs to hidden layer\n",
    "W1 = torch.randn(n_input, n_hidden)\n",
    "\n",
    "# Weights for hidden layer to output layer\n",
    "W2 = torch.randn(n_hidden, n_output)\n",
    "\n",
    "# and bias terms for hidden and output layers\n",
    "B1 = torch.randn((1, n_hidden))\n",
    "B2 = torch.randn((1, n_output))\n",
    "\n",
    "h1 = activation(torch.mm(features,W1) + B1)\n",
    "out = activation(torch.mm(h1,W2)+ B2)\n",
    "print(out.shape)\n",
    "print(out)"
   ]
  },
  {
   "cell_type": "markdown",
   "metadata": {},
   "source": [
    "Now we have 10 outputs for our network. We want to pass in an image to our network and get out a probability distribution over the classes that tells us the likely class(es) the image belongs to. Something that looks like this:\n",
    "<img src='assets/image_distribution.png' width=500px>\n",
    "\n",
    "Here we see that the probability for each class is roughly the same. This is representing an untrained network, it hasn't seen any data yet so it just returns a uniform distribution with equal probabilities for each class.\n",
    "\n",
    "To calculate this probability distribution, we often use the [**softmax** function](https://en.wikipedia.org/wiki/Softmax_function). Mathematically this looks like\n",
    "\n",
    "$$\n",
    "\\Large \\sigma(x_i) = \\cfrac{e^{x_i}}{\\sum_k^K{e^{x_k}}}\n",
    "$$\n",
    "\n",
    "What this does is squish each input $x_i$ between 0 and 1 and normalizes the values to give you a proper probability distribution where the probabilites sum up to one.\n",
    "\n",
    "> **Exercise:** Implement a function `softmax` that performs the softmax calculation and returns probability distributions for each example in the batch. Note that you'll need to pay attention to the shapes when doing this. If you have a tensor `a` with shape `(64, 10)` and a tensor `b` with shape `(64,)`, doing `a/b` will give you an error because PyTorch will try to do the division across the columns (called broadcasting) but you'll get a size mismatch. The way to think about this is for each of the 64 examples, you only want to divide by one value, the sum in the denominator. So you need `b` to have a shape of `(64, 1)`. This way PyTorch will divide the 10 values in each row of `a` by the one value in each row of `b`. Pay attention to how you take the sum as well. You'll need to define the `dim` keyword in `torch.sum`. Setting `dim=0` takes the sum across the rows while `dim=1` takes the sum across the columns."
   ]
  },
  {
   "cell_type": "code",
   "execution_count": 40,
   "metadata": {},
   "outputs": [
    {
     "name": "stdout",
     "output_type": "stream",
     "text": [
      "torch.Size([64, 10])\n",
      "torch.Size([64])\n",
      "torch.Size([64, 1])\n",
      "tensor([[14.9309],\n",
      "        [13.7761],\n",
      "        [15.3704],\n",
      "        [17.3962],\n",
      "        [15.6473],\n",
      "        [16.8564],\n",
      "        [18.4041],\n",
      "        [15.2972],\n",
      "        [15.4019],\n",
      "        [16.4805],\n",
      "        [14.2272],\n",
      "        [17.8582],\n",
      "        [16.2348],\n",
      "        [16.7921],\n",
      "        [13.6682],\n",
      "        [15.1566],\n",
      "        [14.9347],\n",
      "        [15.4190],\n",
      "        [19.0654],\n",
      "        [15.9648],\n",
      "        [18.0205],\n",
      "        [16.2368],\n",
      "        [15.8856],\n",
      "        [14.3952],\n",
      "        [16.1253],\n",
      "        [17.4994],\n",
      "        [15.3674],\n",
      "        [15.0781],\n",
      "        [15.1637],\n",
      "        [14.7055],\n",
      "        [15.8886],\n",
      "        [17.1367],\n",
      "        [14.2729],\n",
      "        [18.6202],\n",
      "        [15.1655],\n",
      "        [10.4133],\n",
      "        [15.1420],\n",
      "        [14.6240],\n",
      "        [16.1400],\n",
      "        [14.4768],\n",
      "        [13.8808],\n",
      "        [13.4776],\n",
      "        [14.0541],\n",
      "        [15.9291],\n",
      "        [14.7299],\n",
      "        [16.8549],\n",
      "        [14.7642],\n",
      "        [14.1972],\n",
      "        [13.4661],\n",
      "        [19.2215],\n",
      "        [13.8919],\n",
      "        [13.5369],\n",
      "        [14.3762],\n",
      "        [14.9251],\n",
      "        [16.5626],\n",
      "        [16.2657],\n",
      "        [14.8320],\n",
      "        [16.3183],\n",
      "        [15.1627],\n",
      "        [16.8825],\n",
      "        [15.2829],\n",
      "        [13.0209],\n",
      "        [13.5808],\n",
      "        [15.3428]])\n",
      "torch.Size([64, 10])\n",
      "tensor([1.0000, 1.0000, 1.0000, 1.0000, 1.0000, 1.0000, 1.0000, 1.0000, 1.0000,\n",
      "        1.0000, 1.0000, 1.0000, 1.0000, 1.0000, 1.0000, 1.0000, 1.0000, 1.0000,\n",
      "        1.0000, 1.0000, 1.0000, 1.0000, 1.0000, 1.0000, 1.0000, 1.0000, 1.0000,\n",
      "        1.0000, 1.0000, 1.0000, 1.0000, 1.0000, 1.0000, 1.0000, 1.0000, 1.0000,\n",
      "        1.0000, 1.0000, 1.0000, 1.0000, 1.0000, 1.0000, 1.0000, 1.0000, 1.0000,\n",
      "        1.0000, 1.0000, 1.0000, 1.0000, 1.0000, 1.0000, 1.0000, 1.0000, 1.0000,\n",
      "        1.0000, 1.0000, 1.0000, 1.0000, 1.0000, 1.0000, 1.0000, 1.0000, 1.0000,\n",
      "        1.0000])\n"
     ]
    }
   ],
   "source": [
    "import math\n",
    "\n",
    "def softmax(x):\n",
    "    a = torch.exp(x)\n",
    "    print(a.shape)\n",
    "    b = torch.sum(torch.exp(x), dim=1)\n",
    "    print(b.shape)\n",
    "    #for each row     \n",
    "    b = torch.sum(torch.exp(x), dim=1).view(-1,1) #dim=1 takes sum across the columns\n",
    "    print(b.shape)\n",
    "    print(b)\n",
    "    sum1 = a/b\n",
    "    return sum1\n",
    "    ## TODO: Implement the softmax function here\n",
    "\n",
    "# Here, out should be the output of the network in the previous excercise with shape (64,10)\n",
    "probabilities = softmax(out)\n",
    "\n",
    "# Does it have the right shape? Should be (64, 10)\n",
    "print(probabilities.shape)\n",
    "# Does it sum to 1?\n",
    "print(probabilities.sum(dim=1))"
   ]
  },
  {
   "cell_type": "markdown",
   "metadata": {},
   "source": [
    "## Building networks with PyTorch\n",
    "\n",
    "PyTorch provides a module `nn` that makes building networks much simpler. Here I'll show you how to build the same one as above with 784 inputs, 256 hidden units, 10 output units and a softmax output."
   ]
  },
  {
   "cell_type": "code",
   "execution_count": 41,
   "metadata": {},
   "outputs": [],
   "source": [
    "from torch import nn"
   ]
  },
  {
   "cell_type": "code",
   "execution_count": 42,
   "metadata": {},
   "outputs": [],
   "source": [
    "class Network(nn.Module):\n",
    "    def __init__(self):\n",
    "        super().__init__()\n",
    "        \n",
    "        # Inputs to hidden layer linear transformation\n",
    "        self.hidden = nn.Linear(784, 256)\n",
    "        # Output layer, 10 units - one for each digit\n",
    "        self.output = nn.Linear(256, 10)\n",
    "        \n",
    "        # Define sigmoid activation and softmax output \n",
    "        self.sigmoid = nn.Sigmoid()\n",
    "        self.softmax = nn.Softmax(dim=1)\n",
    "        \n",
    "    def forward(self, x):\n",
    "        # Pass the input tensor through each of our operations\n",
    "        x = self.hidden(x)\n",
    "        x = self.sigmoid(x)\n",
    "        x = self.output(x)\n",
    "        x = self.softmax(x)\n",
    "        \n",
    "        return x"
   ]
  },
  {
   "cell_type": "markdown",
   "metadata": {},
   "source": [
    "Let's go through this bit by bit.\n",
    "\n",
    "```python\n",
    "class Network(nn.Module):\n",
    "```\n",
    "\n",
    "Here we're inheriting from `nn.Module`. Combined with `super().__init__()` this creates a class that tracks the architecture and provides a lot of useful methods and attributes. It is mandatory to inherit from `nn.Module` when you're creating a class for your network. The name of the class itself can be anything.\n",
    "\n",
    "```python\n",
    "self.hidden = nn.Linear(784, 256)\n",
    "```\n",
    "\n",
    "This line creates a module for a linear transformation, $x\\mathbf{W} + b$, with 784 inputs and 256 outputs and assigns it to `self.hidden`. The module automatically creates the weight and bias tensors which we'll use in the `forward` method. You can access the weight and bias tensors once the network (`net`) is created with `net.hidden.weight` and `net.hidden.bias`.\n",
    "\n",
    "```python\n",
    "self.output = nn.Linear(256, 10)\n",
    "```\n",
    "\n",
    "Similarly, this creates another linear transformation with 256 inputs and 10 outputs.\n",
    "\n",
    "```python\n",
    "self.sigmoid = nn.Sigmoid()\n",
    "self.softmax = nn.Softmax(dim=1)\n",
    "```\n",
    "\n",
    "Here I defined operations for the sigmoid activation and softmax output. Setting `dim=1` in `nn.Softmax(dim=1)` calculates softmax across the columns.\n",
    "\n",
    "```python\n",
    "def forward(self, x):\n",
    "```\n",
    "\n",
    "PyTorch networks created with `nn.Module` must have a `forward` method defined. It takes in a tensor `x` and passes it through the operations you defined in the `__init__` method.\n",
    "\n",
    "```python\n",
    "x = self.hidden(x)\n",
    "x = self.sigmoid(x)\n",
    "x = self.output(x)\n",
    "x = self.softmax(x)\n",
    "```\n",
    "\n",
    "Here the input tensor `x` is passed through each operation and reassigned to `x`. We can see that the input tensor goes through the hidden layer, then a sigmoid function, then the output layer, and finally the softmax function. It doesn't matter what you name the variables here, as long as the inputs and outputs of the operations match the network architecture you want to build. The order in which you define things in the `__init__` method doesn't matter, but you'll need to sequence the operations correctly in the `forward` method.\n",
    "\n",
    "Now we can create a `Network` object."
   ]
  },
  {
   "cell_type": "code",
   "execution_count": 43,
   "metadata": {},
   "outputs": [
    {
     "data": {
      "text/plain": [
       "Network(\n",
       "  (hidden): Linear(in_features=784, out_features=256, bias=True)\n",
       "  (output): Linear(in_features=256, out_features=10, bias=True)\n",
       "  (sigmoid): Sigmoid()\n",
       "  (softmax): Softmax()\n",
       ")"
      ]
     },
     "execution_count": 43,
     "metadata": {},
     "output_type": "execute_result"
    }
   ],
   "source": [
    "# Create the network and look at it's text representation\n",
    "model = Network()\n",
    "model"
   ]
  },
  {
   "cell_type": "markdown",
   "metadata": {},
   "source": [
    "You can define the network somewhat more concisely and clearly using the `torch.nn.functional` module. This is the most common way you'll see networks defined as many operations are simple element-wise functions. We normally import this module as `F`, `import torch.nn.functional as F`."
   ]
  },
  {
   "cell_type": "code",
   "execution_count": 44,
   "metadata": {},
   "outputs": [],
   "source": [
    "import torch.nn.functional as F\n",
    "\n",
    "class Network(nn.Module):\n",
    "    def __init__(self):\n",
    "        super().__init__()\n",
    "        # Inputs to hidden layer linear transformation\n",
    "        self.hidden = nn.Linear(784, 256)\n",
    "        # Output layer, 10 units - one for each digit\n",
    "        self.output = nn.Linear(256, 10)\n",
    "        \n",
    "    def forward(self, x):\n",
    "        # Hidden layer with sigmoid activation\n",
    "        x = F.sigmoid(self.hidden(x))\n",
    "        # Output layer with softmax activation\n",
    "        x = F.softmax(self.output(x), dim=1)\n",
    "        \n",
    "        return x"
   ]
  },
  {
   "cell_type": "markdown",
   "metadata": {},
   "source": [
    "### Activation functions\n",
    "\n",
    "So far we've only been looking at the sigmoid activation function, but in general any function can be used as an activation function. The only requirement is that for a network to approximate a non-linear function, the activation functions must be non-linear. Here are a few more examples of common activation functions: Tanh (hyperbolic tangent), and ReLU (rectified linear unit).\n",
    "\n",
    "<img src=\"assets/activation.png\" width=700px>\n",
    "\n",
    "In practice, the ReLU function is used almost exclusively as the activation function for hidden layers."
   ]
  },
  {
   "cell_type": "markdown",
   "metadata": {},
   "source": [
    "### Your Turn to Build a Network\n",
    "\n",
    "<img src=\"assets/mlp_mnist.png\" width=600px>\n",
    "\n",
    "> **Exercise:** Create a network with 784 input units, a hidden layer with 128 units and a ReLU activation, then a hidden layer with 64 units and a ReLU activation, and finally an output layer with a softmax activation as shown above. You can use a ReLU activation with the `nn.ReLU` module or `F.relu` function.\n",
    "\n",
    "It's good practice to name your layers by their type of network, for instance 'fc' to represent a fully-connected layer. As you code your solution, use `fc1`, `fc2`, and `fc3` as your layer names."
   ]
  },
  {
   "cell_type": "code",
   "execution_count": 55,
   "metadata": {
    "scrolled": true
   },
   "outputs": [
    {
     "data": {
      "text/plain": [
       "Network(\n",
       "  (fc1): Linear(in_features=784, out_features=128, bias=True)\n",
       "  (fc2): Linear(in_features=128, out_features=64, bias=True)\n",
       "  (fc3): Linear(in_features=64, out_features=10, bias=True)\n",
       ")"
      ]
     },
     "execution_count": 55,
     "metadata": {},
     "output_type": "execute_result"
    }
   ],
   "source": [
    "## Your solution here\n",
    "import torch.nn.functional as F\n",
    "\n",
    "class Network(nn.Module):\n",
    "    def __init__(self):\n",
    "        super().__init__()\n",
    "        \n",
    "        # Inputs to hidden layer linear transformation\n",
    "        self.fc1 = nn.Linear(784, 128)\n",
    "        self.fc2 = nn.Linear(128,64)\n",
    "        # Output layer, 10 units - one for each digit\n",
    "        self.fc3 = nn.Linear(64, 10)\n",
    "        \n",
    "    def forward(self, x):\n",
    "    ''' Forward pass through the network, returns the output logits '''\n",
    "\n",
    "        x = self.fc1(x)\n",
    "        x = F.relu(x)\n",
    "        x = self.fc2(x)\n",
    "        x = F.relu(x)\n",
    "        x = self.fc3(x)\n",
    "        x = F.softmax(x, dim=1)\n",
    "        \n",
    "        return x\n",
    "\n",
    "model = Network()\n",
    "model"
   ]
  },
  {
   "cell_type": "markdown",
   "metadata": {},
   "source": [
    "### Initializing weights and biases\n",
    "\n",
    "The weights and such are automatically initialized for you, but it's possible to customize how they are initialized. The weights and biases are tensors attached to the layer you defined, you can get them with `model.fc1.weight` for instance."
   ]
  },
  {
   "cell_type": "code",
   "execution_count": 56,
   "metadata": {},
   "outputs": [
    {
     "name": "stdout",
     "output_type": "stream",
     "text": [
      "Parameter containing:\n",
      "tensor([[-0.0299, -0.0127, -0.0251,  ...,  0.0306, -0.0006,  0.0221],\n",
      "        [-0.0095, -0.0079, -0.0285,  ..., -0.0207, -0.0022, -0.0159],\n",
      "        [-0.0288,  0.0111,  0.0197,  ...,  0.0109,  0.0006, -0.0051],\n",
      "        ...,\n",
      "        [ 0.0191,  0.0355, -0.0216,  ..., -0.0224, -0.0000, -0.0083],\n",
      "        [-0.0290, -0.0005,  0.0196,  ..., -0.0142,  0.0130, -0.0232],\n",
      "        [ 0.0165,  0.0093, -0.0166,  ...,  0.0234,  0.0222,  0.0203]],\n",
      "       requires_grad=True)\n",
      "Parameter containing:\n",
      "tensor([ 0.0262,  0.0296, -0.0108, -0.0064,  0.0180, -0.0047,  0.0105,  0.0042,\n",
      "         0.0050, -0.0133, -0.0083,  0.0133, -0.0317, -0.0146, -0.0031,  0.0171,\n",
      "         0.0288,  0.0029,  0.0147,  0.0295, -0.0013,  0.0049,  0.0247, -0.0326,\n",
      "        -0.0055, -0.0231, -0.0069, -0.0187, -0.0333,  0.0343, -0.0063, -0.0141,\n",
      "         0.0327,  0.0091, -0.0101, -0.0188,  0.0301,  0.0256, -0.0108,  0.0093,\n",
      "         0.0089,  0.0093, -0.0292,  0.0131,  0.0256, -0.0138,  0.0153,  0.0273,\n",
      "         0.0066,  0.0345, -0.0128,  0.0190,  0.0034,  0.0117,  0.0134,  0.0144,\n",
      "         0.0037, -0.0099, -0.0171, -0.0095,  0.0201,  0.0027, -0.0062,  0.0028,\n",
      "         0.0265,  0.0031,  0.0345, -0.0004,  0.0325, -0.0343,  0.0099,  0.0169,\n",
      "         0.0140, -0.0341,  0.0286, -0.0260, -0.0175,  0.0157,  0.0248, -0.0128,\n",
      "         0.0161, -0.0168, -0.0167,  0.0019,  0.0188,  0.0110,  0.0313, -0.0031,\n",
      "        -0.0108,  0.0241, -0.0161, -0.0078, -0.0036, -0.0139,  0.0260,  0.0125,\n",
      "         0.0187,  0.0048, -0.0068, -0.0301, -0.0230,  0.0031, -0.0267, -0.0196,\n",
      "        -0.0258,  0.0187, -0.0288,  0.0161, -0.0343,  0.0192, -0.0294, -0.0337,\n",
      "         0.0057,  0.0257, -0.0113, -0.0332,  0.0268, -0.0126, -0.0142, -0.0063,\n",
      "         0.0066,  0.0109, -0.0091,  0.0304,  0.0030,  0.0057,  0.0276,  0.0053],\n",
      "       requires_grad=True)\n"
     ]
    }
   ],
   "source": [
    "print(model.fc1.weight)\n",
    "print(model.fc1.bias)"
   ]
  },
  {
   "cell_type": "markdown",
   "metadata": {},
   "source": [
    "For custom initialization, we want to modify these tensors in place. These are actually autograd *Variables*, so we need to get back the actual tensors with `model.fc1.weight.data`. Once we have the tensors, we can fill them with zeros (for biases) or random normal values."
   ]
  },
  {
   "cell_type": "code",
   "execution_count": 57,
   "metadata": {},
   "outputs": [
    {
     "data": {
      "text/plain": [
       "tensor([0., 0., 0., 0., 0., 0., 0., 0., 0., 0., 0., 0., 0., 0., 0., 0., 0., 0.,\n",
       "        0., 0., 0., 0., 0., 0., 0., 0., 0., 0., 0., 0., 0., 0., 0., 0., 0., 0.,\n",
       "        0., 0., 0., 0., 0., 0., 0., 0., 0., 0., 0., 0., 0., 0., 0., 0., 0., 0.,\n",
       "        0., 0., 0., 0., 0., 0., 0., 0., 0., 0., 0., 0., 0., 0., 0., 0., 0., 0.,\n",
       "        0., 0., 0., 0., 0., 0., 0., 0., 0., 0., 0., 0., 0., 0., 0., 0., 0., 0.,\n",
       "        0., 0., 0., 0., 0., 0., 0., 0., 0., 0., 0., 0., 0., 0., 0., 0., 0., 0.,\n",
       "        0., 0., 0., 0., 0., 0., 0., 0., 0., 0., 0., 0., 0., 0., 0., 0., 0., 0.,\n",
       "        0., 0.])"
      ]
     },
     "execution_count": 57,
     "metadata": {},
     "output_type": "execute_result"
    }
   ],
   "source": [
    "# Set biases to all zeros\n",
    "model.fc1.bias.data.fill_(0)"
   ]
  },
  {
   "cell_type": "code",
   "execution_count": 58,
   "metadata": {},
   "outputs": [
    {
     "data": {
      "text/plain": [
       "tensor([[-0.0123,  0.0081, -0.0036,  ...,  0.0064, -0.0245,  0.0069],\n",
       "        [-0.0020, -0.0137,  0.0014,  ..., -0.0133, -0.0197, -0.0017],\n",
       "        [ 0.0023,  0.0064, -0.0153,  ..., -0.0032,  0.0068,  0.0049],\n",
       "        ...,\n",
       "        [-0.0204,  0.0093, -0.0026,  ...,  0.0080, -0.0147, -0.0107],\n",
       "        [ 0.0171,  0.0051, -0.0079,  ..., -0.0056,  0.0075, -0.0063],\n",
       "        [-0.0066, -0.0029,  0.0032,  ...,  0.0046,  0.0079,  0.0024]])"
      ]
     },
     "execution_count": 58,
     "metadata": {},
     "output_type": "execute_result"
    }
   ],
   "source": [
    "# sample from random normal with standard dev = 0.01\n",
    "model.fc1.weight.data.normal_(std=0.01)"
   ]
  },
  {
   "cell_type": "markdown",
   "metadata": {},
   "source": [
    "### Forward pass\n",
    "\n",
    "Now that we have a network, let's see what happens when we pass in an image."
   ]
  },
  {
   "cell_type": "code",
   "execution_count": 62,
   "metadata": {},
   "outputs": [
    {
     "data": {
      "image/png": "[encoded data removed]",
      "text/plain": [
       "<Figure size 432x648 with 2 Axes>"
      ]
     },
     "metadata": {
      "image/png": {
       "height": 235,
       "width": 424
      },
      "needs_background": "light"
     },
     "output_type": "display_data"
    }
   ],
   "source": [
    "# Grab some data \n",
    "dataiter = iter(trainloader)\n",
    "images, labels = dataiter.next()\n",
    "\n",
    "# Resize images into a 1D vector, new shape is (batch size, color channels, image pixels) \n",
    "images.resize_(64, 1, 784)\n",
    "# or images.resize_(images.shape[0], 1, 784) to automatically get batch size\n",
    "\n",
    "# Forward pass through the network\n",
    "img_idx = 1\n",
    "ps = model.forward(images[img_idx,:])\n",
    "\n",
    "img = images[img_idx]\n",
    "helper.view_classify(img.view(1, 28, 28), ps)"
   ]
  },
  {
   "cell_type": "markdown",
   "metadata": {},
   "source": [
    "As you can see above, our network has basically no idea what this digit is. It's because we haven't trained it yet, all the weights are random!\n",
    "\n",
    "### Using `nn.Sequential`\n",
    "\n",
    "PyTorch provides a convenient way to build networks like this where a tensor is passed sequentially through operations, `nn.Sequential` ([documentation](https://pytorch.org/docs/master/nn.html#torch.nn.Sequential)). Using this to build the equivalent network:"
   ]
  },
  {
   "cell_type": "code",
   "execution_count": 64,
   "metadata": {},
   "outputs": [
    {
     "name": "stdout",
     "output_type": "stream",
     "text": [
      "Sequential(\n",
      "  (0): Linear(in_features=784, out_features=128, bias=True)\n",
      "  (1): ReLU()\n",
      "  (2): Linear(in_features=128, out_features=64, bias=True)\n",
      "  (3): ReLU()\n",
      "  (4): Linear(in_features=64, out_features=10, bias=True)\n",
      "  (5): Softmax()\n",
      ")\n"
     ]
    },
    {
     "data": {
      "image/png": "[encoded data removed]",
      "text/plain": [
       "<Figure size 432x648 with 2 Axes>"
      ]
     },
     "metadata": {
      "image/png": {
       "height": 235,
       "width": 424
      },
      "needs_background": "light"
     },
     "output_type": "display_data"
    }
   ],
   "source": [
    "# Hyperparameters for our network\n",
    "input_size = 784\n",
    "hidden_sizes = [128, 64]\n",
    "output_size = 10\n",
    "\n",
    "# Build a feed-forward network\n",
    "model = nn.Sequential(nn.Linear(input_size, hidden_sizes[0]),\n",
    "                      nn.ReLU(),\n",
    "                      nn.Linear(hidden_sizes[0], hidden_sizes[1]),\n",
    "                      nn.ReLU(),\n",
    "                      nn.Linear(hidden_sizes[1], output_size),\n",
    "                      nn.Softmax(dim=1))\n",
    "print(model)\n",
    "\n",
    "# Forward pass through the network and display output\n",
    "images, labels = next(iter(trainloader))\n",
    "images.resize_(images.shape[0], 1, 784)\n",
    "ps = model.forward(images[0,:])\n",
    "helper.view_classify(images[1].view(1, 28, 28), ps)"
   ]
  },
  {
   "cell_type": "markdown",
   "metadata": {},
   "source": [
    "Here our model is the same as before: 784 input units, a hidden layer with 128 units, ReLU activation, 64 unit hidden layer, another ReLU, then the output layer with 10 units, and the softmax output.\n",
    "\n",
    "The operations are available by passing in the appropriate index. For example, if you want to get first Linear operation and look at the weights, you'd use `model[0]`."
   ]
  },
  {
   "cell_type": "code",
   "execution_count": 65,
   "metadata": {},
   "outputs": [
    {
     "name": "stdout",
     "output_type": "stream",
     "text": [
      "Linear(in_features=784, out_features=128, bias=True)\n"
     ]
    },
    {
     "data": {
      "text/plain": [
       "Parameter containing:\n",
       "tensor([[-0.0105, -0.0219,  0.0306,  ...,  0.0157, -0.0315, -0.0148],\n",
       "        [ 0.0223,  0.0135, -0.0141,  ...,  0.0326,  0.0345,  0.0120],\n",
       "        [ 0.0193,  0.0287, -0.0013,  ..., -0.0212,  0.0002, -0.0333],\n",
       "        ...,\n",
       "        [ 0.0017, -0.0250,  0.0284,  ..., -0.0309, -0.0115,  0.0049],\n",
       "        [ 0.0060,  0.0063, -0.0089,  ...,  0.0284, -0.0134,  0.0277],\n",
       "        [ 0.0168, -0.0136, -0.0055,  ..., -0.0059, -0.0303, -0.0090]],\n",
       "       requires_grad=True)"
      ]
     },
     "execution_count": 65,
     "metadata": {},
     "output_type": "execute_result"
    }
   ],
   "source": [
    "print(model[0])\n",
    "model[0].weight"
   ]
  },
  {
   "cell_type": "markdown",
   "metadata": {},
   "source": [
    "You can also pass in an `OrderedDict` to name the individual layers and operations, instead of using incremental integers. Note that dictionary keys must be unique, so _each operation must have a different name_."
   ]
  },
  {
   "cell_type": "code",
   "execution_count": 66,
   "metadata": {},
   "outputs": [
    {
     "data": {
      "text/plain": [
       "Sequential(\n",
       "  (fc1): Linear(in_features=784, out_features=128, bias=True)\n",
       "  (relu1): ReLU()\n",
       "  (fc2): Linear(in_features=128, out_features=64, bias=True)\n",
       "  (relu2): ReLU()\n",
       "  (output): Linear(in_features=64, out_features=10, bias=True)\n",
       "  (softmax): Softmax()\n",
       ")"
      ]
     },
     "execution_count": 66,
     "metadata": {},
     "output_type": "execute_result"
    }
   ],
   "source": [
    "from collections import OrderedDict\n",
    "model = nn.Sequential(OrderedDict([\n",
    "                      ('fc1', nn.Linear(input_size, hidden_sizes[0])),\n",
    "                      ('relu1', nn.ReLU()),\n",
    "                      ('fc2', nn.Linear(hidden_sizes[0], hidden_sizes[1])),\n",
    "                      ('relu2', nn.ReLU()),\n",
    "                      ('output', nn.Linear(hidden_sizes[1], output_size)),\n",
    "                      ('softmax', nn.Softmax(dim=1))]))\n",
    "model"
   ]
  },
  {
   "cell_type": "markdown",
   "metadata": {},
   "source": [
    "Now you can access layers either by integer or the name"
   ]
  },
  {
   "cell_type": "code",
   "execution_count": 67,
   "metadata": {},
   "outputs": [
    {
     "name": "stdout",
     "output_type": "stream",
     "text": [
      "Linear(in_features=784, out_features=128, bias=True)\n",
      "Linear(in_features=784, out_features=128, bias=True)\n"
     ]
    }
   ],
   "source": [
    "print(model[0])\n",
    "print(model.fc1)"
   ]
  },
  {
   "cell_type": "markdown",
   "metadata": {},
   "source": [
    "In the next notebook, we'll see how we can train a neural network to accuractly predict the numbers appearing in the MNIST images."
   ]
  }
 ],
 "metadata": {
  "kernelspec": {
   "display_name": "Python 3",
   "language": "python",
   "name": "python3"
  },
  "language_info": {
   "codemirror_mode": {
    "name": "ipython",
    "version": 3
   },
   "file_extension": ".py",
   "mimetype": "text/x-python",
   "name": "python",
   "nbconvert_exporter": "python",
   "pygments_lexer": "ipython3",
   "version": "3.7.4"
  }
 },
 "nbformat": 4,
 "nbformat_minor": 2
}
