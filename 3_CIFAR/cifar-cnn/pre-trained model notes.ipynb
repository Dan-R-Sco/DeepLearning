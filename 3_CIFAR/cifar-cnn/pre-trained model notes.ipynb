{
 "cells": [
  {
   "cell_type": "code",
   "execution_count": null,
   "metadata": {},
   "outputs": [],
   "source": [
    "Imagenet database\n",
    "\n",
    "10,000,000 hand labelled photos\n",
    "Used as the base for most image classification models and competitions"
   ]
  },
  {
   "cell_type": "code",
   "execution_count": null,
   "metadata": {},
   "outputs": [],
   "source": [
    "2012 - AlexNet University of Toronto\n",
    "Pioneered using ReLU activation function\n",
    "Pioneered using dropout to prevent overfitting\n",
    "\n",
    "\n",
    "11x11 convolution windows"
   ]
  },
  {
   "cell_type": "code",
   "execution_count": null,
   "metadata": {},
   "outputs": [],
   "source": [
    "2014\n",
    "VGG net - Oxford University\n",
    "VGG16 - 16 hidden layers \n",
    "VGG19 - 19 hidden layers \n",
    "3x3 convolutions\n",
    "broken up by 2x2 pooling layers\n",
    "finished with 3 fully connected layers\n",
    "\n",
    "Pioneered the use of 3x3 convolution windows"
   ]
  },
  {
   "cell_type": "code",
   "execution_count": null,
   "metadata": {},
   "outputs": [],
   "source": [
    "2015 - ResNet - Microsoft\n",
    "\n",
    "similar structure to VGG but has many many hidden layers\n",
    "First observed the vanishing gradient effect"
   ]
  },
  {
   "cell_type": "code",
   "execution_count": null,
   "metadata": {},
   "outputs": [],
   "source": []
  },
  {
   "cell_type": "code",
   "execution_count": null,
   "metadata": {},
   "outputs": [],
   "source": [
    "toolbox to visualise deep NN - Matt Zeiler\n",
    "https://www.youtube.com/watch?v=ghEmQSxT6tw"
   ]
  }
 ],
 "metadata": {
  "kernelspec": {
   "display_name": "Python 3",
   "language": "python",
   "name": "python3"
  },
  "language_info": {
   "codemirror_mode": {
    "name": "ipython",
    "version": 3
   },
   "file_extension": ".py",
   "mimetype": "text/x-python",
   "name": "python",
   "nbconvert_exporter": "python",
   "pygments_lexer": "ipython3",
   "version": "3.7.6"
  }
 },
 "nbformat": 4,
 "nbformat_minor": 4
}
